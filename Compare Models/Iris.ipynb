{
 "cells": [
  {
   "cell_type": "markdown",
   "metadata": {},
   "source": [
    "## Use iris data  to learn how to choose a model for specific dataset\n",
    "### In this example SCV ends up being the best classifier as it has the highest R2. Could investigate more and play with SCV parameters to improve results"
   ]
  },
  {
   "cell_type": "code",
   "execution_count": 3,
   "metadata": {},
   "outputs": [],
   "source": [
    "import pandas as pd\n",
    "import numpy as np\n",
    "import matplotlib.pyplot as plt\n",
    "import sklearn as sk\n",
    "from sklearn.model_selection import train_test_split\n",
    "from sklearn.linear_model import LogisticRegression\n",
    "from sklearn.neighbors import KNeighborsClassifier\n",
    "from sklearn.tree import DecisionTreeClassifier\n",
    "from sklearn.metrics import classification_report, confusion_matrix\n",
    "from sklearn.svm import SVC\n",
    "from sklearn.naive_bayes import GaussianNB\n",
    "from sklearn.ensemble import RandomForestClassifier\n",
    "\n",
    "#sk.model_selection.train_test_split\n"
   ]
  },
  {
   "cell_type": "code",
   "execution_count": 4,
   "metadata": {},
   "outputs": [
    {
     "data": {
      "text/html": [
       "<div>\n",
       "<style scoped>\n",
       "    .dataframe tbody tr th:only-of-type {\n",
       "        vertical-align: middle;\n",
       "    }\n",
       "\n",
       "    .dataframe tbody tr th {\n",
       "        vertical-align: top;\n",
       "    }\n",
       "\n",
       "    .dataframe thead th {\n",
       "        text-align: right;\n",
       "    }\n",
       "</style>\n",
       "<table border=\"1\" class=\"dataframe\">\n",
       "  <thead>\n",
       "    <tr style=\"text-align: right;\">\n",
       "      <th></th>\n",
       "      <th>sepal-length</th>\n",
       "      <th>sepal-width</th>\n",
       "      <th>petal-length</th>\n",
       "      <th>petal-width</th>\n",
       "      <th>class</th>\n",
       "    </tr>\n",
       "  </thead>\n",
       "  <tbody>\n",
       "    <tr>\n",
       "      <th>0</th>\n",
       "      <td>5.1</td>\n",
       "      <td>3.5</td>\n",
       "      <td>1.4</td>\n",
       "      <td>0.2</td>\n",
       "      <td>Iris-setosa</td>\n",
       "    </tr>\n",
       "    <tr>\n",
       "      <th>1</th>\n",
       "      <td>4.9</td>\n",
       "      <td>3.0</td>\n",
       "      <td>1.4</td>\n",
       "      <td>0.2</td>\n",
       "      <td>Iris-setosa</td>\n",
       "    </tr>\n",
       "    <tr>\n",
       "      <th>2</th>\n",
       "      <td>4.7</td>\n",
       "      <td>3.2</td>\n",
       "      <td>1.3</td>\n",
       "      <td>0.2</td>\n",
       "      <td>Iris-setosa</td>\n",
       "    </tr>\n",
       "    <tr>\n",
       "      <th>3</th>\n",
       "      <td>4.6</td>\n",
       "      <td>3.1</td>\n",
       "      <td>1.5</td>\n",
       "      <td>0.2</td>\n",
       "      <td>Iris-setosa</td>\n",
       "    </tr>\n",
       "    <tr>\n",
       "      <th>4</th>\n",
       "      <td>5.0</td>\n",
       "      <td>3.6</td>\n",
       "      <td>1.4</td>\n",
       "      <td>0.2</td>\n",
       "      <td>Iris-setosa</td>\n",
       "    </tr>\n",
       "  </tbody>\n",
       "</table>\n",
       "</div>"
      ],
      "text/plain": [
       "   sepal-length  sepal-width  petal-length  petal-width        class\n",
       "0           5.1          3.5           1.4          0.2  Iris-setosa\n",
       "1           4.9          3.0           1.4          0.2  Iris-setosa\n",
       "2           4.7          3.2           1.3          0.2  Iris-setosa\n",
       "3           4.6          3.1           1.5          0.2  Iris-setosa\n",
       "4           5.0          3.6           1.4          0.2  Iris-setosa"
      ]
     },
     "execution_count": 4,
     "metadata": {},
     "output_type": "execute_result"
    }
   ],
   "source": [
    "df =pd.read_csv('iris.csv', names=['sepal-length','sepal-width','petal-length', 'petal-width', 'class'])\n",
    "df.head()"
   ]
  },
  {
   "cell_type": "code",
   "execution_count": 5,
   "metadata": {},
   "outputs": [],
   "source": [
    "X=df.iloc[:,0:4].values\n",
    "y=df.iloc[:,4].values\n",
    "#print(x)\n",
    "X_train, X_test, y_train, y_test = train_test_split(\n",
    "   X, y, test_size=0.2, random_state=7)"
   ]
  },
  {
   "cell_type": "markdown",
   "metadata": {},
   "source": [
    "Create Tuple so it is easier to read results <br />\n",
    "All Models use default settings"
   ]
  },
  {
   "cell_type": "code",
   "execution_count": 6,
   "metadata": {},
   "outputs": [],
   "source": [
    "models=[(\"LR\",LogisticRegression()),(\"DTC\", DecisionTreeClassifier()),('KNN',KNeighborsClassifier()),\n",
    "                                                ('SVC',SVC()),('GNB', GaussianNB()), ('RFC',RandomForestClassifier())]"
   ]
  },
  {
   "cell_type": "code",
   "execution_count": 9,
   "metadata": {},
   "outputs": [
    {
     "name": "stdout",
     "output_type": "stream",
     "text": [
      "[SVC(C=1.0, cache_size=200, class_weight=None, coef0=0.0,\n",
      "  decision_function_shape='ovr', degree=3, gamma='auto_deprecated',\n",
      "  kernel='rbf', max_iter=-1, probability=False, random_state=None,\n",
      "  shrinking=True, tol=0.001, verbose=False), array(['Iris-virginica', 'Iris-versicolor', 'Iris-setosa',\n",
      "       'Iris-versicolor', 'Iris-virginica', 'Iris-setosa',\n",
      "       'Iris-versicolor', 'Iris-versicolor', 'Iris-setosa',\n",
      "       'Iris-versicolor', 'Iris-virginica', 'Iris-versicolor',\n",
      "       'Iris-setosa', 'Iris-virginica', 'Iris-setosa', 'Iris-virginica',\n",
      "       'Iris-virginica', 'Iris-virginica', 'Iris-setosa', 'Iris-setosa',\n",
      "       'Iris-versicolor', 'Iris-virginica', 'Iris-versicolor',\n",
      "       'Iris-virginica', 'Iris-virginica', 'Iris-virginica',\n",
      "       'Iris-versicolor', 'Iris-versicolor', 'Iris-virginica',\n",
      "       'Iris-virginica'], dtype=object), array([[ 7,  0,  0],\n",
      "       [ 0, 10,  2],\n",
      "       [ 0,  0, 11]]), 0.9333333333333333]\n",
      "[SVC(C=1.0, cache_size=200, class_weight=None, coef0=0.0,\n",
      "  decision_function_shape='ovr', degree=3, gamma='auto_deprecated',\n",
      "  kernel='rbf', max_iter=-1, probability=False, random_state=None,\n",
      "  shrinking=True, tol=0.001, verbose=False), array(['Iris-virginica', 'Iris-versicolor', 'Iris-setosa',\n",
      "       'Iris-versicolor', 'Iris-virginica', 'Iris-setosa',\n",
      "       'Iris-versicolor', 'Iris-versicolor', 'Iris-setosa',\n",
      "       'Iris-versicolor', 'Iris-virginica', 'Iris-versicolor',\n",
      "       'Iris-setosa', 'Iris-virginica', 'Iris-setosa', 'Iris-virginica',\n",
      "       'Iris-virginica', 'Iris-virginica', 'Iris-setosa', 'Iris-setosa',\n",
      "       'Iris-versicolor', 'Iris-virginica', 'Iris-versicolor',\n",
      "       'Iris-virginica', 'Iris-virginica', 'Iris-virginica',\n",
      "       'Iris-versicolor', 'Iris-versicolor', 'Iris-virginica',\n",
      "       'Iris-virginica'], dtype=object), array([[ 7,  0,  0],\n",
      "       [ 0, 10,  2],\n",
      "       [ 0,  0, 11]]), 0.9333333333333333]\n",
      "[SVC(C=1.0, cache_size=200, class_weight=None, coef0=0.0,\n",
      "  decision_function_shape='ovr', degree=3, gamma='auto_deprecated',\n",
      "  kernel='rbf', max_iter=-1, probability=False, random_state=None,\n",
      "  shrinking=True, tol=0.001, verbose=False), array(['Iris-virginica', 'Iris-versicolor', 'Iris-setosa',\n",
      "       'Iris-versicolor', 'Iris-virginica', 'Iris-setosa',\n",
      "       'Iris-versicolor', 'Iris-versicolor', 'Iris-setosa',\n",
      "       'Iris-versicolor', 'Iris-virginica', 'Iris-versicolor',\n",
      "       'Iris-setosa', 'Iris-virginica', 'Iris-setosa', 'Iris-virginica',\n",
      "       'Iris-virginica', 'Iris-virginica', 'Iris-setosa', 'Iris-setosa',\n",
      "       'Iris-versicolor', 'Iris-virginica', 'Iris-versicolor',\n",
      "       'Iris-virginica', 'Iris-virginica', 'Iris-virginica',\n",
      "       'Iris-versicolor', 'Iris-versicolor', 'Iris-virginica',\n",
      "       'Iris-virginica'], dtype=object), array([[ 7,  0,  0],\n",
      "       [ 0, 10,  2],\n",
      "       [ 0,  0, 11]]), 0.9333333333333333]\n",
      "[SVC(C=1.0, cache_size=200, class_weight=None, coef0=0.0,\n",
      "  decision_function_shape='ovr', degree=3, gamma='auto_deprecated',\n",
      "  kernel='rbf', max_iter=-1, probability=False, random_state=None,\n",
      "  shrinking=True, tol=0.001, verbose=False), array(['Iris-virginica', 'Iris-versicolor', 'Iris-setosa',\n",
      "       'Iris-versicolor', 'Iris-virginica', 'Iris-setosa',\n",
      "       'Iris-versicolor', 'Iris-versicolor', 'Iris-setosa',\n",
      "       'Iris-versicolor', 'Iris-virginica', 'Iris-versicolor',\n",
      "       'Iris-setosa', 'Iris-virginica', 'Iris-setosa', 'Iris-virginica',\n",
      "       'Iris-virginica', 'Iris-virginica', 'Iris-setosa', 'Iris-setosa',\n",
      "       'Iris-versicolor', 'Iris-virginica', 'Iris-versicolor',\n",
      "       'Iris-virginica', 'Iris-virginica', 'Iris-virginica',\n",
      "       'Iris-versicolor', 'Iris-versicolor', 'Iris-virginica',\n",
      "       'Iris-virginica'], dtype=object), array([[ 7,  0,  0],\n",
      "       [ 0, 10,  2],\n",
      "       [ 0,  0, 11]]), 0.9333333333333333]\n",
      "[SVC(C=1.0, cache_size=200, class_weight=None, coef0=0.0,\n",
      "  decision_function_shape='ovr', degree=3, gamma='auto_deprecated',\n",
      "  kernel='rbf', max_iter=-1, probability=False, random_state=None,\n",
      "  shrinking=True, tol=0.001, verbose=False), array(['Iris-virginica', 'Iris-versicolor', 'Iris-setosa',\n",
      "       'Iris-versicolor', 'Iris-virginica', 'Iris-setosa',\n",
      "       'Iris-versicolor', 'Iris-versicolor', 'Iris-setosa',\n",
      "       'Iris-versicolor', 'Iris-virginica', 'Iris-versicolor',\n",
      "       'Iris-setosa', 'Iris-virginica', 'Iris-setosa', 'Iris-virginica',\n",
      "       'Iris-virginica', 'Iris-virginica', 'Iris-setosa', 'Iris-setosa',\n",
      "       'Iris-versicolor', 'Iris-virginica', 'Iris-versicolor',\n",
      "       'Iris-virginica', 'Iris-virginica', 'Iris-virginica',\n",
      "       'Iris-versicolor', 'Iris-versicolor', 'Iris-virginica',\n",
      "       'Iris-virginica'], dtype=object), array([[ 7,  0,  0],\n",
      "       [ 0, 10,  2],\n",
      "       [ 0,  0, 11]]), 0.9333333333333333]\n",
      "[SVC(C=1.0, cache_size=200, class_weight=None, coef0=0.0,\n",
      "  decision_function_shape='ovr', degree=3, gamma='auto_deprecated',\n",
      "  kernel='rbf', max_iter=-1, probability=False, random_state=None,\n",
      "  shrinking=True, tol=0.001, verbose=False), array(['Iris-virginica', 'Iris-versicolor', 'Iris-setosa',\n",
      "       'Iris-versicolor', 'Iris-virginica', 'Iris-setosa',\n",
      "       'Iris-versicolor', 'Iris-versicolor', 'Iris-setosa',\n",
      "       'Iris-versicolor', 'Iris-virginica', 'Iris-versicolor',\n",
      "       'Iris-setosa', 'Iris-virginica', 'Iris-setosa', 'Iris-virginica',\n",
      "       'Iris-virginica', 'Iris-virginica', 'Iris-setosa', 'Iris-setosa',\n",
      "       'Iris-versicolor', 'Iris-virginica', 'Iris-versicolor',\n",
      "       'Iris-virginica', 'Iris-virginica', 'Iris-virginica',\n",
      "       'Iris-versicolor', 'Iris-versicolor', 'Iris-virginica',\n",
      "       'Iris-virginica'], dtype=object), array([[ 7,  0,  0],\n",
      "       [ 0, 10,  2],\n",
      "       [ 0,  0, 11]]), 0.9333333333333333]\n"
     ]
    },
    {
     "name": "stderr",
     "output_type": "stream",
     "text": [
      "/Users/lidag/anaconda3/lib/python3.7/site-packages/sklearn/linear_model/logistic.py:433: FutureWarning: Default solver will be changed to 'lbfgs' in 0.22. Specify a solver to silence this warning.\n",
      "  FutureWarning)\n",
      "/Users/lidag/anaconda3/lib/python3.7/site-packages/sklearn/linear_model/logistic.py:460: FutureWarning: Default multi_class will be changed to 'auto' in 0.22. Specify the multi_class option to silence this warning.\n",
      "  \"this warning.\", FutureWarning)\n",
      "/Users/lidag/anaconda3/lib/python3.7/site-packages/sklearn/svm/base.py:196: FutureWarning: The default value of gamma will change from 'auto' to 'scale' in version 0.22 to account better for unscaled features. Set gamma explicitly to 'auto' or 'scale' to avoid this warning.\n",
      "  \"avoid this warning.\", FutureWarning)\n"
     ]
    },
    {
     "data": {
      "image/png": "[encoded data removed]",
      "text/plain": [
       "<Figure size 432x288 with 1 Axes>"
      ]
     },
     "metadata": {
      "needs_background": "light"
     },
     "output_type": "display_data"
    }
   ],
   "source": [
    "from sklearn.metrics import accuracy_score, confusion_matrix # to compare results\n",
    "\n",
    "#trained_models=[]\n",
    "#my_predictions=[]# to store results \n",
    "results =[]\n",
    "\n",
    "for name, model in models:\n",
    "    _model= model\n",
    "    _model.fit(X_train,y_train)\n",
    "    _prediction=_model.predict(X_test)\n",
    "    _confusion=confusion_matrix(y_test, _prediction)\n",
    "    _accuracy=accuracy_score(y_test, _prediction)\n",
    "    #m_predictions.append(_predictions)\n",
    "    #trained_models.append(_model)  #append so results will not be overriden\n",
    "    model_details=[_model,_prediction,_confusion, _accuracy]\n",
    "    results.append(model_details)\n",
    "    \n",
    "counter=[]\n",
    "timer=[\"RL\",'DTC','KNN',\"SVC\",\"GNB\",'RFC']\n",
    "for element in results:\n",
    "    counter.append(element[3])\n",
    "    print(results[3])\n",
    "\n",
    "plt.plot(timer,counter)\n",
    "#plt.scatter(timer,counter)    \n",
    "    \n",
    "plt.show()    \n",
    "    \n"
   ]
  },
  {
   "cell_type": "code",
   "execution_count": null,
   "metadata": {},
   "outputs": [],
   "source": []
  },
  {
   "cell_type": "code",
   "execution_count": null,
   "metadata": {},
   "outputs": [],
   "source": []
  }
 ],
 "metadata": {
  "kernelspec": {
   "display_name": "Python 3",
   "language": "python",
   "name": "python3"
  },
  "language_info": {
   "codemirror_mode": {
    "name": "ipython",
    "version": 3
   },
   "file_extension": ".py",
   "mimetype": "text/x-python",
   "name": "python",
   "nbconvert_exporter": "python",
   "pygments_lexer": "ipython3",
   "version": "3.7.3"
  }
 },
 "nbformat": 4,
 "nbformat_minor": 2
}
